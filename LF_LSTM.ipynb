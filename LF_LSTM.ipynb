{
  "nbformat": 4,
  "nbformat_minor": 0,
  "metadata": {
    "colab": {
      "name": "LF_LSTM.ipynb",
      "provenance": [],
      "authorship_tag": "ABX9TyMf2g+Xv63XJl60V62WoTLq",
      "include_colab_link": true
    },
    "kernelspec": {
      "name": "python3",
      "display_name": "Python 3"
    }
  },
  "cells": [
    {
      "cell_type": "markdown",
      "metadata": {
        "id": "view-in-github",
        "colab_type": "text"
      },
      "source": [
        "<a href=\"https://colab.research.google.com/github/Tobsige/LoadPrediction/blob/main/LF_LSTM.ipynb\" target=\"_parent\"><img src=\"https://colab.research.google.com/assets/colab-badge.svg\" alt=\"Open In Colab\"/></a>"
      ]
    },
    {
      "cell_type": "code",
      "metadata": {
        "id": "nGu-7VX8jBYE"
      },
      "source": [
        "import numpy as np\r\n",
        "import matplotlib.pyplot as plt\r\n",
        "import pandas as pd\r\n",
        "import math\r\n",
        "import keras\r\n",
        "import seaborn as sns\r\n",
        "from google.colab import files\r\n",
        "from keras.models import Sequential\r\n",
        "from keras.layers import Dense\r\n",
        "from keras.layers import LSTM\r\n",
        "from keras.layers import Dropout\r\n",
        "from keras.layers import *\r\n",
        "from sklearn.preprocessing import MinMaxScaler\r\n",
        "from sklearn.metrics import mean_squared_error"
      ],
      "execution_count": null,
      "outputs": []
    },
    {
      "cell_type": "code",
      "metadata": {
        "colab": {
          "resources": {
            "http://localhost:8080/nbextensions/google.colab/files.js": {
              "data": "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",
              "ok": true,
              "headers": [
                [
                  "content-type",
                  "application/javascript"
                ]
              ],
              "status": 200,
              "status_text": ""
            }
          },
          "base_uri": "https://localhost:8080/",
          "height": 94
        },
        "id": "LQf4QIW3ix9R",
        "outputId": "ebc2cbe9-a2d4-4aa4-8cf2-35a7e4f6be48"
      },
      "source": [
        "uploaded = files.upload()\r\n",
        "\r\n",
        "for fn in uploaded.keys():\r\n",
        "  print('User uploaded file \"{name}\" with length {length} bytes'.format(\r\n",
        "      name=fn, length=len(uploaded[fn])))"
      ],
      "execution_count": null,
      "outputs": [
        {
          "output_type": "display_data",
          "data": {
            "text/html": [
              "\n",
              "     <input type=\"file\" id=\"files-de93810d-eccf-4125-8c93-6031bfba9392\" name=\"files[]\" multiple disabled\n",
              "        style=\"border:none\" />\n",
              "     <output id=\"result-de93810d-eccf-4125-8c93-6031bfba9392\">\n",
              "      Upload widget is only available when the cell has been executed in the\n",
              "      current browser session. Please rerun this cell to enable.\n",
              "      </output>\n",
              "      <script src=\"/nbextensions/google.colab/files.js\"></script> "
            ],
            "text/plain": [
              "<IPython.core.display.HTML object>"
            ]
          },
          "metadata": {
            "tags": []
          }
        },
        {
          "output_type": "stream",
          "text": [
            "Saving ausdata1.CSV to ausdata1.CSV\n",
            "User uploaded file \"ausdata1.CSV\" with length 4346740 bytes\n"
          ],
          "name": "stdout"
        }
      ]
    },
    {
      "cell_type": "code",
      "metadata": {
        "colab": {
          "base_uri": "https://localhost:8080/"
        },
        "id": "OHGdkcRmjnQQ",
        "outputId": "e5d6627a-4465-469d-b12e-0b49e8780409"
      },
      "source": [
        "column_names = ['Date', 'Hour', 'DryBulb', 'DewPnt', 'WetBulb', 'Humidity', 'ElecPrice', 'SYSLoad']\r\n",
        "dataframe = pd.read_csv('ausdata1.CSV', names = column_names, usecols=['SYSLoad'], skiprows=1)\r\n",
        "\r\n",
        "dataset = dataframe.values #numpy.ndarray\r\n",
        "dataset = dataset.astype('float32')\r\n",
        "\r\n",
        "dataset.shape"
      ],
      "execution_count": null,
      "outputs": [
        {
          "output_type": "execute_result",
          "data": {
            "text/plain": [
              "(87648, 1)"
            ]
          },
          "metadata": {
            "tags": []
          },
          "execution_count": 3
        }
      ]
    },
    {
      "cell_type": "code",
      "metadata": {
        "colab": {
          "base_uri": "https://localhost:8080/"
        },
        "id": "No3fWJnjmV1Q",
        "outputId": "85a481a3-f8e7-4491-d330-0f27b680e0c7"
      },
      "source": [
        "numpy.random.seed(7)\r\n",
        "# normalize the dataset\r\n",
        "scaler = MinMaxScaler(feature_range=(0, 1))\r\n",
        "dataset = scaler.fit_transform(dataset)\r\n",
        "\r\n",
        "train_size = int(len(dataset) * 0.7)\r\n",
        "test_size = len(dataset) - train_size\r\n",
        "train, test = dataset[0:train_size,:], dataset[train_size:len(dataset),:]\r\n",
        "print(len(train), len(test))"
      ],
      "execution_count": null,
      "outputs": [
        {
          "output_type": "stream",
          "text": [
            "61353 26295\n"
          ],
          "name": "stdout"
        }
      ]
    },
    {
      "cell_type": "code",
      "metadata": {
        "id": "KoD8TcrCZJhb"
      },
      "source": [
        "def create_dataset(dataset, look_back=1):\r\n",
        "\tdataX, dataY = [], []\r\n",
        "\tfor i in range(len(dataset)-look_back-1):\r\n",
        "\t\ta = dataset[i:(i+look_back), 0]\r\n",
        "\t\tdataX.append(a)\r\n",
        "\t\tdataY.append(dataset[i + look_back, 0])\r\n",
        "\treturn numpy.array(dataX), numpy.array(dataY)"
      ],
      "execution_count": null,
      "outputs": []
    },
    {
      "cell_type": "code",
      "metadata": {
        "colab": {
          "base_uri": "https://localhost:8080/"
        },
        "id": "HwG2GIHycVui",
        "outputId": "b3ad9ae5-d56b-481a-8796-d388977a8989"
      },
      "source": [
        "# reshape into X=t and Y=t+1\r\n",
        "look_back = 30\r\n",
        "trainX, trainY = create_dataset(train, look_back)\r\n",
        "testX, testY = create_dataset(test, look_back)\r\n",
        "\r\n",
        "trainX.shape"
      ],
      "execution_count": null,
      "outputs": [
        {
          "output_type": "execute_result",
          "data": {
            "text/plain": [
              "(61322, 30)"
            ]
          },
          "metadata": {
            "tags": []
          },
          "execution_count": 6
        }
      ]
    },
    {
      "cell_type": "code",
      "metadata": {
        "colab": {
          "base_uri": "https://localhost:8080/"
        },
        "id": "0yNziCGfq1lR",
        "outputId": "a4ac63c4-5206-4506-df9d-cfd24cbc1286"
      },
      "source": [
        "trainY.shape"
      ],
      "execution_count": null,
      "outputs": [
        {
          "output_type": "execute_result",
          "data": {
            "text/plain": [
              "(1, 61322)"
            ]
          },
          "metadata": {
            "tags": []
          },
          "execution_count": 12
        }
      ]
    },
    {
      "cell_type": "code",
      "metadata": {
        "id": "8R5zIuBpcmOn",
        "colab": {
          "base_uri": "https://localhost:8080/"
        },
        "outputId": "08d308e0-a9ed-4009-f3b4-661b90cb2374"
      },
      "source": [
        "# reshape input to be [samples, time steps, features]\r\n",
        "trainX = np.reshape(trainX, (trainX.shape[0], 1, trainX.shape[1]))\r\n",
        "testX = np.reshape(testX, (testX.shape[0], 1, testX.shape[1]))\r\n",
        "\r\n",
        "from keras.callbacks import EarlyStopping\r\n",
        "import time\r\n",
        "\r\n",
        "# create and fit the LSTM network\r\n",
        "model = Sequential() # New Instance of Model Object\r\n",
        "model.add(LSTM(20, input_shape=(1, look_back)))\r\n",
        "model.add(Dense(100, activation='relu'))\r\n",
        "model.add(Dense(60, activation='relu'))\r\n",
        "model.add(Dense(50, activation='relu'))\r\n",
        "model.add(Dense(1, activation='linear'))\r\n",
        "model.compile(loss='mean_squared_error', optimizer='ADAM')\r\n",
        "\r\n",
        "start = time.time()\r\n",
        "hist =model.fit(trainX, trainY, epochs=150, shuffle=True,batch_size=125, validation_data=(testX, testY), \r\n",
        "                callbacks=[EarlyStopping(monitor='val_loss', patience=30)], verbose=1)\r\n",
        "\r\n",
        "end = time.time()\r\n",
        "# Training Phase\r\n",
        "model.summary()"
      ],
      "execution_count": null,
      "outputs": [
        {
          "output_type": "stream",
          "text": [
            "Epoch 1/150\n",
            "491/491 [==============================] - 4s 5ms/step - loss: 0.0193 - val_loss: 4.5230e-04\n",
            "Epoch 2/150\n",
            "491/491 [==============================] - 2s 3ms/step - loss: 4.1531e-04 - val_loss: 3.1762e-04\n",
            "Epoch 3/150\n",
            "491/491 [==============================] - 2s 4ms/step - loss: 2.8668e-04 - val_loss: 2.1031e-04\n",
            "Epoch 4/150\n",
            "491/491 [==============================] - 2s 4ms/step - loss: 2.3414e-04 - val_loss: 1.6640e-04\n",
            "Epoch 5/150\n",
            "491/491 [==============================] - 2s 4ms/step - loss: 1.8873e-04 - val_loss: 1.8782e-04\n",
            "Epoch 6/150\n",
            "491/491 [==============================] - 2s 3ms/step - loss: 1.7910e-04 - val_loss: 2.3284e-04\n",
            "Epoch 7/150\n",
            "491/491 [==============================] - 2s 3ms/step - loss: 1.7261e-04 - val_loss: 1.3866e-04\n",
            "Epoch 8/150\n",
            "491/491 [==============================] - 2s 3ms/step - loss: 1.5942e-04 - val_loss: 1.3507e-04\n",
            "Epoch 9/150\n",
            "491/491 [==============================] - 2s 3ms/step - loss: 1.5283e-04 - val_loss: 1.7158e-04\n",
            "Epoch 10/150\n",
            "491/491 [==============================] - 2s 3ms/step - loss: 1.5416e-04 - val_loss: 1.4955e-04\n",
            "Epoch 11/150\n",
            "491/491 [==============================] - 2s 3ms/step - loss: 1.3384e-04 - val_loss: 1.8076e-04\n",
            "Epoch 12/150\n",
            "491/491 [==============================] - 2s 3ms/step - loss: 1.4865e-04 - val_loss: 1.1931e-04\n",
            "Epoch 13/150\n",
            "491/491 [==============================] - 2s 3ms/step - loss: 1.1815e-04 - val_loss: 1.1625e-04\n",
            "Epoch 14/150\n",
            "491/491 [==============================] - 2s 3ms/step - loss: 1.2680e-04 - val_loss: 1.1022e-04\n",
            "Epoch 15/150\n",
            "491/491 [==============================] - 2s 3ms/step - loss: 1.2681e-04 - val_loss: 9.7914e-05\n",
            "Epoch 16/150\n",
            "491/491 [==============================] - 2s 3ms/step - loss: 1.1501e-04 - val_loss: 1.3090e-04\n",
            "Epoch 17/150\n",
            "491/491 [==============================] - 2s 3ms/step - loss: 1.2154e-04 - val_loss: 1.6528e-04\n",
            "Epoch 18/150\n",
            "491/491 [==============================] - 2s 3ms/step - loss: 1.2368e-04 - val_loss: 9.6679e-05\n",
            "Epoch 19/150\n",
            "491/491 [==============================] - 2s 3ms/step - loss: 1.0860e-04 - val_loss: 1.1287e-04\n",
            "Epoch 20/150\n",
            "491/491 [==============================] - 2s 3ms/step - loss: 1.1353e-04 - val_loss: 9.5813e-05\n",
            "Epoch 21/150\n",
            "491/491 [==============================] - 2s 3ms/step - loss: 1.0284e-04 - val_loss: 1.1586e-04\n",
            "Epoch 22/150\n",
            "491/491 [==============================] - 2s 3ms/step - loss: 1.1292e-04 - val_loss: 9.0642e-05\n",
            "Epoch 23/150\n",
            "491/491 [==============================] - 2s 3ms/step - loss: 1.0487e-04 - val_loss: 1.0112e-04\n",
            "Epoch 24/150\n",
            "491/491 [==============================] - 2s 3ms/step - loss: 1.1298e-04 - val_loss: 9.9889e-05\n",
            "Epoch 25/150\n",
            "491/491 [==============================] - 2s 3ms/step - loss: 1.0719e-04 - val_loss: 1.0188e-04\n",
            "Epoch 26/150\n",
            "491/491 [==============================] - 2s 3ms/step - loss: 1.0188e-04 - val_loss: 9.7996e-05\n",
            "Epoch 27/150\n",
            "491/491 [==============================] - 2s 3ms/step - loss: 1.1191e-04 - val_loss: 9.5307e-05\n",
            "Epoch 28/150\n",
            "491/491 [==============================] - 2s 3ms/step - loss: 9.8726e-05 - val_loss: 8.8439e-05\n",
            "Epoch 29/150\n",
            "491/491 [==============================] - 2s 3ms/step - loss: 1.0178e-04 - val_loss: 8.2436e-05\n",
            "Epoch 30/150\n",
            "491/491 [==============================] - 2s 3ms/step - loss: 9.9845e-05 - val_loss: 1.6888e-04\n",
            "Epoch 31/150\n",
            "491/491 [==============================] - 2s 3ms/step - loss: 9.9294e-05 - val_loss: 1.1970e-04\n",
            "Epoch 32/150\n",
            "491/491 [==============================] - 2s 3ms/step - loss: 1.0385e-04 - val_loss: 8.8486e-05\n",
            "Epoch 33/150\n",
            "491/491 [==============================] - 2s 3ms/step - loss: 9.3726e-05 - val_loss: 9.0092e-05\n",
            "Epoch 34/150\n",
            "491/491 [==============================] - 2s 3ms/step - loss: 9.6396e-05 - val_loss: 1.1045e-04\n",
            "Epoch 35/150\n",
            "491/491 [==============================] - 2s 3ms/step - loss: 9.3748e-05 - val_loss: 7.9648e-05\n",
            "Epoch 36/150\n",
            "491/491 [==============================] - 2s 3ms/step - loss: 8.8920e-05 - val_loss: 8.9492e-05\n",
            "Epoch 37/150\n",
            "491/491 [==============================] - 2s 3ms/step - loss: 9.4609e-05 - val_loss: 9.0420e-05\n",
            "Epoch 38/150\n",
            "491/491 [==============================] - 2s 3ms/step - loss: 9.1984e-05 - val_loss: 8.0165e-05\n",
            "Epoch 39/150\n",
            "491/491 [==============================] - 2s 3ms/step - loss: 9.6983e-05 - val_loss: 9.7534e-05\n",
            "Epoch 40/150\n",
            "491/491 [==============================] - 2s 3ms/step - loss: 9.1272e-05 - val_loss: 8.3878e-05\n",
            "Epoch 41/150\n",
            "491/491 [==============================] - 2s 3ms/step - loss: 8.9856e-05 - val_loss: 1.5688e-04\n",
            "Epoch 42/150\n",
            "491/491 [==============================] - 2s 3ms/step - loss: 9.4876e-05 - val_loss: 9.2271e-05\n",
            "Epoch 43/150\n",
            "491/491 [==============================] - 2s 3ms/step - loss: 8.3848e-05 - val_loss: 8.8565e-05\n",
            "Epoch 44/150\n",
            "491/491 [==============================] - 2s 3ms/step - loss: 8.8738e-05 - val_loss: 9.1511e-05\n",
            "Epoch 45/150\n",
            "491/491 [==============================] - 2s 4ms/step - loss: 8.8781e-05 - val_loss: 8.0463e-05\n",
            "Epoch 46/150\n",
            "491/491 [==============================] - 2s 3ms/step - loss: 8.6709e-05 - val_loss: 7.5788e-05\n",
            "Epoch 47/150\n",
            "491/491 [==============================] - 2s 3ms/step - loss: 8.7881e-05 - val_loss: 7.9005e-05\n",
            "Epoch 48/150\n",
            "491/491 [==============================] - 2s 3ms/step - loss: 8.1157e-05 - val_loss: 8.1787e-05\n",
            "Epoch 49/150\n",
            "491/491 [==============================] - 2s 3ms/step - loss: 8.7838e-05 - val_loss: 7.9862e-05\n",
            "Epoch 50/150\n",
            "491/491 [==============================] - 2s 3ms/step - loss: 8.3535e-05 - val_loss: 8.9030e-05\n",
            "Epoch 51/150\n",
            "491/491 [==============================] - 2s 3ms/step - loss: 8.7233e-05 - val_loss: 9.5187e-05\n",
            "Epoch 52/150\n",
            "491/491 [==============================] - 2s 3ms/step - loss: 8.1641e-05 - val_loss: 7.9825e-05\n",
            "Epoch 53/150\n",
            "491/491 [==============================] - 2s 3ms/step - loss: 8.8162e-05 - val_loss: 7.5646e-05\n",
            "Epoch 54/150\n",
            "491/491 [==============================] - 2s 3ms/step - loss: 7.8840e-05 - val_loss: 9.3572e-05\n",
            "Epoch 55/150\n",
            "491/491 [==============================] - 2s 3ms/step - loss: 8.3213e-05 - val_loss: 7.9569e-05\n",
            "Epoch 56/150\n",
            "491/491 [==============================] - 2s 3ms/step - loss: 8.3755e-05 - val_loss: 1.1112e-04\n",
            "Epoch 57/150\n",
            "491/491 [==============================] - 2s 3ms/step - loss: 8.2768e-05 - val_loss: 1.1447e-04\n",
            "Epoch 58/150\n",
            "491/491 [==============================] - 2s 3ms/step - loss: 8.7360e-05 - val_loss: 1.5092e-04\n",
            "Epoch 59/150\n",
            "491/491 [==============================] - 2s 3ms/step - loss: 8.3327e-05 - val_loss: 7.5592e-05\n",
            "Epoch 60/150\n",
            "491/491 [==============================] - 2s 3ms/step - loss: 8.5165e-05 - val_loss: 6.9175e-05\n",
            "Epoch 61/150\n",
            "491/491 [==============================] - 2s 3ms/step - loss: 8.1776e-05 - val_loss: 9.5922e-05\n",
            "Epoch 62/150\n",
            "491/491 [==============================] - 2s 4ms/step - loss: 7.8323e-05 - val_loss: 7.3462e-05\n",
            "Epoch 63/150\n",
            "491/491 [==============================] - 2s 3ms/step - loss: 8.6103e-05 - val_loss: 1.1693e-04\n",
            "Epoch 64/150\n",
            "491/491 [==============================] - 2s 4ms/step - loss: 8.2850e-05 - val_loss: 7.7555e-05\n",
            "Epoch 65/150\n",
            "491/491 [==============================] - 2s 4ms/step - loss: 7.8337e-05 - val_loss: 8.0907e-05\n",
            "Epoch 66/150\n",
            "491/491 [==============================] - 2s 4ms/step - loss: 7.6463e-05 - val_loss: 9.0927e-05\n",
            "Epoch 67/150\n",
            "491/491 [==============================] - 2s 4ms/step - loss: 8.3013e-05 - val_loss: 8.2394e-05\n",
            "Epoch 68/150\n",
            "491/491 [==============================] - 2s 4ms/step - loss: 7.5438e-05 - val_loss: 8.0430e-05\n",
            "Epoch 69/150\n",
            "491/491 [==============================] - 2s 3ms/step - loss: 7.7903e-05 - val_loss: 7.5054e-05\n",
            "Epoch 70/150\n",
            "491/491 [==============================] - 2s 3ms/step - loss: 7.7133e-05 - val_loss: 7.4864e-05\n",
            "Epoch 71/150\n",
            "491/491 [==============================] - 2s 3ms/step - loss: 8.1958e-05 - val_loss: 7.9403e-05\n",
            "Epoch 72/150\n",
            "491/491 [==============================] - 2s 3ms/step - loss: 7.6796e-05 - val_loss: 7.7563e-05\n",
            "Epoch 73/150\n",
            "491/491 [==============================] - 2s 3ms/step - loss: 7.7360e-05 - val_loss: 8.7283e-05\n",
            "Epoch 74/150\n",
            "491/491 [==============================] - 2s 3ms/step - loss: 7.3207e-05 - val_loss: 6.9548e-05\n",
            "Epoch 75/150\n",
            "491/491 [==============================] - 2s 3ms/step - loss: 8.2520e-05 - val_loss: 1.0629e-04\n",
            "Epoch 76/150\n",
            "491/491 [==============================] - 2s 3ms/step - loss: 7.5571e-05 - val_loss: 8.1688e-05\n",
            "Epoch 77/150\n",
            "491/491 [==============================] - 2s 3ms/step - loss: 7.6521e-05 - val_loss: 8.0395e-05\n",
            "Epoch 78/150\n",
            "491/491 [==============================] - 2s 3ms/step - loss: 7.4370e-05 - val_loss: 7.7356e-05\n",
            "Epoch 79/150\n",
            "491/491 [==============================] - 2s 3ms/step - loss: 7.2644e-05 - val_loss: 8.5863e-05\n",
            "Epoch 80/150\n",
            "491/491 [==============================] - 2s 3ms/step - loss: 7.4559e-05 - val_loss: 7.2120e-05\n",
            "Epoch 81/150\n",
            "491/491 [==============================] - 2s 3ms/step - loss: 7.8245e-05 - val_loss: 9.4944e-05\n",
            "Epoch 82/150\n",
            "491/491 [==============================] - 2s 3ms/step - loss: 7.3153e-05 - val_loss: 7.2331e-05\n",
            "Epoch 83/150\n",
            "491/491 [==============================] - 2s 3ms/step - loss: 7.2127e-05 - val_loss: 8.1664e-05\n",
            "Epoch 84/150\n",
            "491/491 [==============================] - 2s 3ms/step - loss: 7.9476e-05 - val_loss: 7.1409e-05\n",
            "Epoch 85/150\n",
            "491/491 [==============================] - 2s 3ms/step - loss: 7.1839e-05 - val_loss: 7.5874e-05\n",
            "Epoch 86/150\n",
            "491/491 [==============================] - 2s 3ms/step - loss: 7.6077e-05 - val_loss: 1.2262e-04\n",
            "Epoch 87/150\n",
            "491/491 [==============================] - 2s 3ms/step - loss: 7.9429e-05 - val_loss: 8.3750e-05\n",
            "Epoch 88/150\n",
            "491/491 [==============================] - 2s 3ms/step - loss: 7.2815e-05 - val_loss: 7.1494e-05\n",
            "Epoch 89/150\n",
            "491/491 [==============================] - 2s 3ms/step - loss: 7.0234e-05 - val_loss: 7.2808e-05\n",
            "Epoch 90/150\n",
            "491/491 [==============================] - 2s 3ms/step - loss: 7.1232e-05 - val_loss: 6.8232e-05\n",
            "Epoch 91/150\n",
            "491/491 [==============================] - 2s 3ms/step - loss: 6.9000e-05 - val_loss: 7.1415e-05\n",
            "Epoch 92/150\n",
            "491/491 [==============================] - 2s 3ms/step - loss: 7.4289e-05 - val_loss: 1.1836e-04\n",
            "Epoch 93/150\n",
            "491/491 [==============================] - 2s 3ms/step - loss: 6.9676e-05 - val_loss: 7.3603e-05\n",
            "Epoch 94/150\n",
            "491/491 [==============================] - 2s 3ms/step - loss: 6.8500e-05 - val_loss: 7.3144e-05\n",
            "Epoch 95/150\n",
            "491/491 [==============================] - 2s 3ms/step - loss: 7.4294e-05 - val_loss: 1.0499e-04\n",
            "Epoch 96/150\n",
            "491/491 [==============================] - 2s 3ms/step - loss: 7.3596e-05 - val_loss: 7.0567e-05\n",
            "Epoch 97/150\n",
            "491/491 [==============================] - 2s 3ms/step - loss: 6.7300e-05 - val_loss: 9.7835e-05\n",
            "Epoch 98/150\n",
            "491/491 [==============================] - 2s 3ms/step - loss: 7.0520e-05 - val_loss: 6.8766e-05\n",
            "Epoch 99/150\n",
            "491/491 [==============================] - 2s 3ms/step - loss: 6.8838e-05 - val_loss: 9.1113e-05\n",
            "Epoch 100/150\n",
            "491/491 [==============================] - 2s 3ms/step - loss: 7.3562e-05 - val_loss: 7.8287e-05\n",
            "Epoch 101/150\n",
            "491/491 [==============================] - 2s 3ms/step - loss: 7.0344e-05 - val_loss: 7.4804e-05\n",
            "Epoch 102/150\n",
            "491/491 [==============================] - 2s 3ms/step - loss: 7.0369e-05 - val_loss: 6.7051e-05\n",
            "Epoch 103/150\n",
            "491/491 [==============================] - 2s 3ms/step - loss: 6.7787e-05 - val_loss: 6.8504e-05\n",
            "Epoch 104/150\n",
            "491/491 [==============================] - 2s 3ms/step - loss: 6.3897e-05 - val_loss: 9.8622e-05\n",
            "Epoch 105/150\n",
            "491/491 [==============================] - 2s 3ms/step - loss: 7.1389e-05 - val_loss: 9.3256e-05\n",
            "Epoch 106/150\n",
            "491/491 [==============================] - 2s 3ms/step - loss: 6.6699e-05 - val_loss: 8.9828e-05\n",
            "Epoch 107/150\n",
            "491/491 [==============================] - 2s 4ms/step - loss: 6.7186e-05 - val_loss: 6.5028e-05\n",
            "Epoch 108/150\n",
            "491/491 [==============================] - 2s 3ms/step - loss: 6.4095e-05 - val_loss: 6.8789e-05\n",
            "Epoch 109/150\n",
            "491/491 [==============================] - 2s 3ms/step - loss: 7.2685e-05 - val_loss: 7.9736e-05\n",
            "Epoch 110/150\n",
            "491/491 [==============================] - 2s 3ms/step - loss: 7.0600e-05 - val_loss: 1.0576e-04\n",
            "Epoch 111/150\n",
            "491/491 [==============================] - 2s 3ms/step - loss: 6.7677e-05 - val_loss: 7.7262e-05\n",
            "Epoch 112/150\n",
            "491/491 [==============================] - 2s 3ms/step - loss: 6.4160e-05 - val_loss: 6.5292e-05\n",
            "Epoch 113/150\n",
            "491/491 [==============================] - 2s 3ms/step - loss: 6.6456e-05 - val_loss: 7.8454e-05\n",
            "Epoch 114/150\n",
            "491/491 [==============================] - 2s 3ms/step - loss: 6.8137e-05 - val_loss: 6.9312e-05\n",
            "Epoch 115/150\n",
            "491/491 [==============================] - 2s 3ms/step - loss: 6.4060e-05 - val_loss: 1.2987e-04\n",
            "Epoch 116/150\n",
            "491/491 [==============================] - 2s 3ms/step - loss: 7.0873e-05 - val_loss: 8.0434e-05\n",
            "Epoch 117/150\n",
            "491/491 [==============================] - 2s 4ms/step - loss: 6.3769e-05 - val_loss: 6.3285e-05\n",
            "Epoch 118/150\n",
            "491/491 [==============================] - 2s 4ms/step - loss: 6.7901e-05 - val_loss: 7.7150e-05\n",
            "Epoch 119/150\n",
            "491/491 [==============================] - 2s 3ms/step - loss: 6.7293e-05 - val_loss: 6.5872e-05\n",
            "Epoch 120/150\n",
            "491/491 [==============================] - 2s 4ms/step - loss: 6.2225e-05 - val_loss: 6.5912e-05\n",
            "Epoch 121/150\n",
            "491/491 [==============================] - 2s 4ms/step - loss: 6.5433e-05 - val_loss: 7.6738e-05\n",
            "Epoch 122/150\n",
            "491/491 [==============================] - 2s 3ms/step - loss: 6.9176e-05 - val_loss: 8.4549e-05\n",
            "Epoch 123/150\n",
            "491/491 [==============================] - 2s 3ms/step - loss: 6.7952e-05 - val_loss: 6.2084e-05\n",
            "Epoch 124/150\n",
            "491/491 [==============================] - 2s 3ms/step - loss: 6.1851e-05 - val_loss: 7.8116e-05\n",
            "Epoch 125/150\n",
            "491/491 [==============================] - 2s 4ms/step - loss: 6.2673e-05 - val_loss: 7.0026e-05\n",
            "Epoch 126/150\n",
            "491/491 [==============================] - 2s 4ms/step - loss: 6.5492e-05 - val_loss: 7.6940e-05\n",
            "Epoch 127/150\n",
            "491/491 [==============================] - 2s 4ms/step - loss: 6.3200e-05 - val_loss: 6.3717e-05\n",
            "Epoch 128/150\n",
            "491/491 [==============================] - 2s 4ms/step - loss: 6.4535e-05 - val_loss: 6.2278e-05\n",
            "Epoch 129/150\n",
            "491/491 [==============================] - 2s 4ms/step - loss: 6.3397e-05 - val_loss: 6.2880e-05\n",
            "Epoch 130/150\n",
            "491/491 [==============================] - 2s 4ms/step - loss: 6.2018e-05 - val_loss: 7.2771e-05\n",
            "Epoch 131/150\n",
            "491/491 [==============================] - 2s 3ms/step - loss: 6.1518e-05 - val_loss: 6.2026e-05\n",
            "Epoch 132/150\n",
            "491/491 [==============================] - 2s 3ms/step - loss: 6.2769e-05 - val_loss: 6.5966e-05\n",
            "Epoch 133/150\n",
            "491/491 [==============================] - 2s 3ms/step - loss: 6.0897e-05 - val_loss: 6.2853e-05\n",
            "Epoch 134/150\n",
            "491/491 [==============================] - 2s 3ms/step - loss: 6.5453e-05 - val_loss: 8.2775e-05\n",
            "Epoch 135/150\n",
            "491/491 [==============================] - 2s 3ms/step - loss: 6.4240e-05 - val_loss: 9.4960e-05\n",
            "Epoch 136/150\n",
            "491/491 [==============================] - 2s 3ms/step - loss: 6.6424e-05 - val_loss: 7.5753e-05\n",
            "Epoch 137/150\n",
            "491/491 [==============================] - 2s 3ms/step - loss: 6.4324e-05 - val_loss: 6.1735e-05\n",
            "Epoch 138/150\n",
            "491/491 [==============================] - 2s 3ms/step - loss: 6.5065e-05 - val_loss: 7.0609e-05\n",
            "Epoch 139/150\n",
            "491/491 [==============================] - 2s 3ms/step - loss: 6.2368e-05 - val_loss: 8.2755e-05\n",
            "Epoch 140/150\n",
            "491/491 [==============================] - 2s 4ms/step - loss: 6.3369e-05 - val_loss: 7.8191e-05\n",
            "Epoch 141/150\n",
            "491/491 [==============================] - 2s 3ms/step - loss: 6.5240e-05 - val_loss: 5.9843e-05\n",
            "Epoch 142/150\n",
            "491/491 [==============================] - 2s 3ms/step - loss: 5.9503e-05 - val_loss: 6.6363e-05\n",
            "Epoch 143/150\n",
            "491/491 [==============================] - 2s 3ms/step - loss: 5.8763e-05 - val_loss: 7.5262e-05\n",
            "Epoch 144/150\n",
            "491/491 [==============================] - 2s 3ms/step - loss: 6.2576e-05 - val_loss: 6.5721e-05\n",
            "Epoch 145/150\n",
            "491/491 [==============================] - 2s 3ms/step - loss: 6.0496e-05 - val_loss: 6.0731e-05\n",
            "Epoch 146/150\n",
            "491/491 [==============================] - 2s 3ms/step - loss: 5.9452e-05 - val_loss: 7.5194e-05\n",
            "Epoch 147/150\n",
            "491/491 [==============================] - 2s 3ms/step - loss: 6.4342e-05 - val_loss: 7.3565e-05\n",
            "Epoch 148/150\n",
            "491/491 [==============================] - 2s 3ms/step - loss: 6.4145e-05 - val_loss: 9.4535e-05\n",
            "Epoch 149/150\n",
            "491/491 [==============================] - 2s 3ms/step - loss: 6.1136e-05 - val_loss: 8.8314e-05\n",
            "Epoch 150/150\n",
            "491/491 [==============================] - 2s 3ms/step - loss: 6.2465e-05 - val_loss: 7.0179e-05\n",
            "Model: \"sequential\"\n",
            "_________________________________________________________________\n",
            "Layer (type)                 Output Shape              Param #   \n",
            "=================================================================\n",
            "lstm (LSTM)                  (None, 20)                4080      \n",
            "_________________________________________________________________\n",
            "dense (Dense)                (None, 100)               2100      \n",
            "_________________________________________________________________\n",
            "dense_1 (Dense)              (None, 60)                6060      \n",
            "_________________________________________________________________\n",
            "dense_2 (Dense)              (None, 50)                3050      \n",
            "_________________________________________________________________\n",
            "dense_3 (Dense)              (None, 1)                 51        \n",
            "=================================================================\n",
            "Total params: 15,341\n",
            "Trainable params: 15,341\n",
            "Non-trainable params: 0\n",
            "_________________________________________________________________\n"
          ],
          "name": "stdout"
        }
      ]
    },
    {
      "cell_type": "code",
      "metadata": {
        "colab": {
          "base_uri": "https://localhost:8080/"
        },
        "id": "bAVWE6kGjjyv",
        "outputId": "58e56dd4-8e35-4b2c-8d10-bd75e408f10a"
      },
      "source": [
        "print (\"Model took %0.2f seconds to train\"%(end - start))"
      ],
      "execution_count": null,
      "outputs": [
        {
          "output_type": "stream",
          "text": [
            "Model took 254.49 seconds to train\n"
          ],
          "name": "stdout"
        }
      ]
    },
    {
      "cell_type": "code",
      "metadata": {
        "colab": {
          "base_uri": "https://localhost:8080/"
        },
        "id": "GLM94mHsj_Tc",
        "outputId": "679e4832-82e4-42af-cd59-2605979743d6"
      },
      "source": [
        "logger=keras.callbacks.TensorBoard(log_dir='logs', write_graph=True)\r\n",
        "# make predictions\r\n",
        "trainPredict = model.predict(trainX)\r\n",
        "testPredict = model.predict(testX)\r\n",
        "# invert predictions\r\n",
        "trainPredict = scaler.inverse_transform(trainPredict)\r\n",
        "trainY = scaler.inverse_transform(trainY)\r\n",
        "testPredict = scaler.inverse_transform(testPredict)\r\n",
        "testY = scaler.inverse_transform(testY)\r\n",
        "\r\n",
        "from sklearn.metrics import mean_absolute_error\r\n",
        "\r\n",
        "print('Mean Absolute Error Test:', mean_absolute_error(testY[0], testPredict[:,0]))\r\n",
        "print('Mean Squared Error Test:',np.sqrt(mean_squared_error(testY[0], testPredict[:,0])))\r\n",
        "#print('Mean Absolute Percentage Error:',MAPError(testY[0], testPredict[:,0]))\r\n",
        "\r\n",
        "print('Mean Absolute Error Train:', mean_absolute_error(trainY[0], trainPredict[:,0]))\r\n",
        "print('Mean Squared Error Train:',np.sqrt(mean_squared_error(trainY[0], trainPredict[:,0])))\r\n",
        "#print('Mean Absolute Percentage Error:',MAPError(trainY[0], trainPredict[:,0]))\r\n",
        "\r\n",
        "\r\n",
        "print('Mean Absolute Error Test:', mean_absolute_error(testY[0], testPredict[:,0]))\r\n",
        "print('Mean Squared Error Test:',np.sqrt(mean_squared_error(testY[0], testPredict[:,0])))\r\n",
        "#print('Mean Absolute Percentage Error:',MAPError(testY[0], testPredict[:,0]))"
      ],
      "execution_count": null,
      "outputs": [
        {
          "output_type": "stream",
          "text": [
            "Mean Absolute Error Test: 77380958.99320655\n",
            "Mean Squared Error Test: 78313732.26680803\n",
            "Mean Absolute Error Train: 687510449580.2091\n",
            "Mean Squared Error Train: 696185871963.503\n",
            "Mean Absolute Error Test: 77380958.99320655\n",
            "Mean Squared Error Test: 78313732.26680803\n"
          ],
          "name": "stdout"
        }
      ]
    },
    {
      "cell_type": "code",
      "metadata": {
        "colab": {
          "base_uri": "https://localhost:8080/",
          "height": 287
        },
        "id": "bxz6qWuFsrQJ",
        "outputId": "aadf8c97-67d4-4fdd-81ea-0130d8be6803"
      },
      "source": [
        "sns.set_style('white')\r\n",
        "sns.set_context(\"paper\", font_scale=1.4)  \r\n",
        "plt.figure(figsize=(9,4))\r\n",
        "import matplotlib as mpl\r\n",
        "#mpl.rcParams['legend.frameon'] = 'True'\r\n",
        "plt.plot(hist.history['loss'], color='#005ce6', linewidth=1, marker='d', markersize=7, label='Train Loss')\r\n",
        "plt.plot(hist.history['val_loss'], color='#ffd11a',linewidth=1, marker='*',markersize=6, label='Test Loss')\r\n",
        "plt.tick_params(left=False, labelleft=True) #remove ticks\r\n",
        "plt.box(False)\r\n",
        "plt.xlabel('Epochs')\r\n",
        "plt.ylabel('Loss')\r\n",
        "legend = plt.legend(loc='upper right',prop={'size': 16})\r\n",
        "#legend.get_frame().set_facecolor('#8c8c8c')"
      ],
      "execution_count": null,
      "outputs": [
        {
          "output_type": "display_data",
          "data": {
            "image/png": "[encoded data removed]",
            "text/plain": [
              "<Figure size 648x288 with 1 Axes>"
            ]
          },
          "metadata": {
            "tags": []
          }
        }
      ]
    }
  ]
}